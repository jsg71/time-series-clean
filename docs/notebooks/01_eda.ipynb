{
 "cells": [
  {
   "cell_type": "markdown",
   "id": "0",
   "metadata": {},
   "source": [
    "# 01 EDA – Multi-Station Lightning Waveforms  ⚡\n",
    "\n",
    "This notebook lets you **see** what the simulator produced and builds\n",
    "intuition before you train any model.\n",
    "\n",
    "1.  Load London & Paris waveforms (memory-mapped – zero RAM blow-up)\n",
    "2.  First-second overview + raw spectrogram\n",
    "3.  Event catalogue print-out\n",
    "4.  Zoom and inspect one strike at **both** stations (delay & attenuation)\n",
    "5.  Extra: baseline PSD vs. strike PSD\n",
    "6.  Extra: cross-correlation lag between LON and PAR\n",
    "\n",
    "---\n",
    "\n",
    "> **Adjust paths** if you changed the folder names.\n"
   ]
  },
  {
   "cell_type": "code",
   "execution_count": null,
   "id": "1",
   "metadata": {},
   "outputs": [],
   "source": [
    "# ╔══════════════════════════════════════════════════════════╗\n",
    "# ║ 0. Imports and file paths                                ║\n",
    "# ╚══════════════════════════════════════════════════════════╝\n",
    "import numpy as np, json, matplotlib.pyplot as plt, pathlib, datetime, scipy.signal as sig\n",
    "\n",
    "root   = pathlib.Path(\"../data/synthetic\")          # relative to notebook\n",
    "npy_L  = root / \"storm1_LON.npy\"\n",
    "npy_P  = root / \"storm1_PAR.npy\"\n",
    "meta_f = root / \"storm1_meta.json\"\n"
   ]
  },
  {
   "cell_type": "code",
   "execution_count": null,
   "id": "2",
   "metadata": {},
   "outputs": [],
   "source": [
    "# ╔══════════════════════════════════════════════════════════╗\n",
    "# ║ 1. Load waveforms (memory-mapped) & event catalogue       ║\n",
    "# ╚══════════════════════════════════════════════════════════╝\n",
    "lon = np.load(npy_L, mmap_mode='r')     # shape (N,)\n",
    "par = np.load(npy_P, mmap_mode='r')\n",
    "\n",
    "meta   = json.load(open(meta_f))\n",
    "fs     = meta[\"fs\"]                    # 100 kHz\n",
    "events = meta[\"events\"]\n",
    "\n",
    "print(\"Samples per station:\", lon.shape[0])\n",
    "print(\"Lightning events embedded:\", len(events))\n",
    "for ev in events[:5]:\n",
    "    print(ev)\n"
   ]
  },
  {
   "cell_type": "code",
   "execution_count": null,
   "id": "3",
   "metadata": {},
   "outputs": [],
   "source": [
    "# ╔══════════════════════════════════════════════════════════╗\n",
    "# ║ 2. Overview – first second                               ║\n",
    "# ╚══════════════════════════════════════════════════════════╝\n",
    "lon_1s, par_1s = lon[:fs], par[:fs]\n",
    "\n",
    "plt.figure(figsize=(12,3))\n",
    "plt.plot(np.arange(fs)/fs, lon_1s, label=\"London\")\n",
    "plt.plot(np.arange(fs)/fs, par_1s, label=\"Paris\", alpha=0.7)\n",
    "plt.title(\"Raw E-field – first second\"); plt.xlabel(\"Time (s)\")\n",
    "plt.ylabel(\"Amplitude (arb.)\"); plt.legend(); plt.show()\n",
    "\n",
    "plt.figure(figsize=(10,4))\n",
    "plt.specgram(lon_1s, Fs=fs, NFFT=2048, noverlap=1024, cmap=\"viridis\")\n",
    "plt.title(\"Spectrogram – London, 0-1 s\")\n",
    "plt.xlabel(\"Time (s)\"); plt.ylabel(\"Freq (Hz)\")\n",
    "plt.colorbar(label=\"dB\"); plt.show()\n"
   ]
  },
  {
   "cell_type": "code",
   "execution_count": null,
   "id": "4",
   "metadata": {},
   "outputs": [],
   "source": [
    "# ╔══════════════════════════════════════════════════════════╗\n",
    "# ║ 3. Power-spectral density (baseline noise)               ║\n",
    "# ╚══════════════════════════════════════════════════════════╝\n",
    "f, Pxx = sig.welch(lon_1s, fs=fs, nperseg=4096)\n",
    "plt.semilogy(f, Pxx); plt.xlim(0, 5000)\n",
    "plt.title(\"PSD – noise segment\"); plt.xlabel(\"Frequency (Hz)\"); plt.ylabel(\"PSD\")\n",
    "plt.show()\n"
   ]
  },
  {
   "cell_type": "code",
   "execution_count": null,
   "id": "5",
   "metadata": {},
   "outputs": [],
   "source": [
    "# ╔══════════════════════════════════════════════════════════╗\n",
    "# ║ 4. Zoom ±40 ms around *first* strike – both stations      ║\n",
    "# ╚══════════════════════════════════════════════════════════╝\n",
    "centre = events[0][\"t\"]\n",
    "win = 0.08                            # 80 ms window\n",
    "s, e = int((centre-win/2)*fs), int((centre+win/2)*fs)\n",
    "seg_L, seg_P = lon[s:e], par[s:e]\n",
    "t_axis = np.arange(seg_L.size)/fs\n",
    "\n",
    "plt.figure(figsize=(12,3))\n",
    "plt.plot(t_axis, seg_L, label=\"London\")\n",
    "plt.plot(t_axis, seg_P, label=\"Paris\", alpha=0.7)\n",
    "plt.title(\"Strike waveform at two stations (±40 ms)\")\n",
    "plt.xlabel(\"Time (s)\"); plt.ylabel(\"Amplitude\"); plt.legend(); plt.show()\n",
    "\n",
    "plt.figure(figsize=(10,4))\n",
    "plt.specgram(seg_L, Fs=fs, NFFT=512, noverlap=256, cmap=\"magma\",\n",
    "             vmin=-110, vmax=-70)\n",
    "plt.title(\"High-res spectrogram – London burst\")\n",
    "plt.ylim(0, 20_000); plt.colorbar(label=\"dB\"); plt.show()\n"
   ]
  },
  {
   "cell_type": "code",
   "execution_count": null,
   "id": "6",
   "metadata": {},
   "outputs": [],
   "source": [
    "# ╔══════════════════════════════════════════════════════════╗\n",
    "# ║ 5. Cross-correlation lag between LON and PAR             ║\n",
    "# ╚══════════════════════════════════════════════════════════╝\n",
    "corr = sig.correlate(seg_P, seg_L, mode='full')\n",
    "lags = sig.correlation_lags(len(seg_P), len(seg_L), mode='full') / fs\n",
    "peak = lags[np.argmax(corr)]\n",
    "print(f\"Peak cross-corr lag (PAR relative to LON): {peak*1e3:.2f} ms\")\n",
    "\n",
    "plt.figure(figsize=(8,3))\n",
    "plt.plot(lags*1e3, corr)\n",
    "plt.title(\"Cross-correlation PAR ↔ LON\")\n",
    "plt.xlabel(\"Lag (ms)\"); plt.ylabel(\"Correlation\")\n",
    "plt.axvline(peak*1e3, color='r')           # ← use color, not colour\n",
    "plt.show()\n"
   ]
  },
  {
   "cell_type": "markdown",
   "id": "7",
   "metadata": {},
   "source": [
    "## Interpretation & next steps\n",
    "\n",
    "* **Lag ≈ x ms** matches haversine distance / 300 km s⁻¹ – sanity check.\n",
    "* Spectrogram shows a clean ~5–10 kHz damped sinusoid, so models can learn frequency content.\n",
    "* Use this notebook to pick interesting windows for auto-encoder reconstruction, STA/LTA thresholds, or NCD peaks.\n",
    "\n",
    "Increase `minutes` in the simulator or raise `amp` to create a busier storm and re-run the same notebook for richer plots.\n"
   ]
  },
  {
   "cell_type": "code",
   "execution_count": null,
   "id": "8",
   "metadata": {},
   "outputs": [],
   "source": []
  },
  {
   "cell_type": "code",
   "execution_count": null,
   "id": "9",
   "metadata": {},
   "outputs": [],
   "source": []
  },
  {
   "cell_type": "code",
   "execution_count": null,
   "id": "10",
   "metadata": {},
   "outputs": [],
   "source": []
  },
  {
   "cell_type": "code",
   "execution_count": null,
   "id": "11",
   "metadata": {},
   "outputs": [],
   "source": []
  },
  {
   "cell_type": "code",
   "execution_count": null,
   "id": "12",
   "metadata": {},
   "outputs": [],
   "source": []
  },
  {
   "cell_type": "code",
   "execution_count": null,
   "id": "13",
   "metadata": {},
   "outputs": [],
   "source": []
  },
  {
   "cell_type": "code",
   "execution_count": null,
   "id": "14",
   "metadata": {},
   "outputs": [],
   "source": []
  },
  {
   "cell_type": "code",
   "execution_count": null,
   "id": "15",
   "metadata": {},
   "outputs": [],
   "source": []
  }
 ],
 "metadata": {
  "kernelspec": {
   "display_name": "Python 3",
   "language": "python",
   "name": "python3"
  },
  "language_info": {
   "codemirror_mode": {
    "name": "ipython",
    "version": 2
   },
   "file_extension": ".py",
   "mimetype": "text/x-python",
   "name": "python",
   "nbconvert_exporter": "python",
   "pygments_lexer": "ipython2",
   "version": "2.7.6"
  }
 },
 "nbformat": 4,
 "nbformat_minor": 5
}
